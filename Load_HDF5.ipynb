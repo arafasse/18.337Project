{
 "cells": [
  {
   "cell_type": "code",
   "execution_count": 1,
   "metadata": {},
   "outputs": [
    {
     "name": "stdout",
     "output_type": "stream",
     "text": [
      "\u001b[32m\u001b[1m  Updating\u001b[22m\u001b[39m registry at `~/.julia/registries/General`\n",
      "\u001b[32m\u001b[1m  Updating\u001b[22m\u001b[39m git-repo `https://github.com/JuliaRegistries/General.git`\n",
      "\u001b[2K\u001b[?25h[1mFetching:\u001b[22m\u001b[39m [========================================>]  99.9 %0.0 %>                                 ]  15.8 % %>                   ]  51.9 %=========================>               ]  62.2 %]  77.9 %======================================>  ]  93.7 %\u001b[32m\u001b[1m Resolving\u001b[22m\u001b[39m package versions...\n",
      "\u001b[32m\u001b[1m Installed\u001b[22m\u001b[39m ImageShow ────── v0.1.2\n",
      "\u001b[32m\u001b[1m Installed\u001b[22m\u001b[39m Blosc ────────── v0.5.1\n",
      "\u001b[32m\u001b[1m Installed\u001b[22m\u001b[39m CMake ────────── v1.1.0\n",
      "\u001b[32m\u001b[1m Installed\u001b[22m\u001b[39m ZipFile ──────── v0.8.0\n",
      "\u001b[32m\u001b[1m Installed\u001b[22m\u001b[39m HDF5 ─────────── v0.10.2\n",
      "\u001b[32m\u001b[1m Installed\u001b[22m\u001b[39m ProgressMeter ── v0.8.0\n",
      "\u001b[32m\u001b[1m Installed\u001b[22m\u001b[39m Compat ───────── v1.4.0\n",
      "\u001b[32m\u001b[1m Installed\u001b[22m\u001b[39m CMakeWrapper ─── v0.2.2\n",
      "\u001b[32m\u001b[1m Installed\u001b[22m\u001b[39m Parameters ───── v0.10.1\n",
      "\u001b[32m\u001b[1m Installed\u001b[22m\u001b[39m ImageFiltering ─ v0.5.1\n",
      "\u001b[32m\u001b[1m Installed\u001b[22m\u001b[39m Interpolations ─ v0.10.6\n",
      "\u001b[32m\u001b[1m  Updating\u001b[22m\u001b[39m `~/.julia/environments/v1.0/Project.toml`\n",
      " \u001b[90m [f67ccb44]\u001b[39m\u001b[92m + HDF5 v0.10.2\u001b[39m\n",
      "\u001b[32m\u001b[1m  Updating\u001b[22m\u001b[39m `~/.julia/environments/v1.0/Manifest.toml`\n",
      " \u001b[90m [a74b3585]\u001b[39m\u001b[92m + Blosc v0.5.1\u001b[39m\n",
      " \u001b[90m [631607c0]\u001b[39m\u001b[92m + CMake v1.1.0\u001b[39m\n",
      " \u001b[90m [d5fb7624]\u001b[39m\u001b[92m + CMakeWrapper v0.2.2\u001b[39m\n",
      " \u001b[90m [34da2185]\u001b[39m\u001b[93m ↑ Compat v1.3.0 ⇒ v1.4.0\u001b[39m\n",
      " \u001b[90m [f67ccb44]\u001b[39m\u001b[92m + HDF5 v0.10.2\u001b[39m\n",
      " \u001b[90m [6a3955dd]\u001b[39m\u001b[93m ↑ ImageFiltering v0.5.0 ⇒ v0.5.1\u001b[39m\n",
      " \u001b[90m [4e3cecfd]\u001b[39m\u001b[93m ↑ ImageShow v0.1.1 ⇒ v0.1.2\u001b[39m\n",
      " \u001b[90m [a98d9a8b]\u001b[39m\u001b[93m ↑ Interpolations v0.10.5 ⇒ v0.10.6\u001b[39m\n",
      " \u001b[90m [d96e819e]\u001b[39m\u001b[92m + Parameters v0.10.1\u001b[39m\n",
      " \u001b[90m [92933f4c]\u001b[39m\u001b[93m ↑ ProgressMeter v0.6.1 ⇒ v0.8.0\u001b[39m\n",
      " \u001b[90m [a5390f91]\u001b[39m\u001b[93m ↑ ZipFile v0.7.0 ⇒ v0.8.0\u001b[39m\n",
      "\u001b[32m\u001b[1m  Building\u001b[22m\u001b[39m CMake ──→ `~/.julia/packages/CMake/xNoo8/deps/build.log`\n",
      "\u001b[32m\u001b[1m  Building\u001b[22m\u001b[39m Blosc ──→ `~/.julia/packages/Blosc/lzFr0/deps/build.log`\n",
      "\u001b[32m\u001b[1m  Building\u001b[22m\u001b[39m HDF5 ───→ `~/.julia/packages/HDF5/b6QoH/deps/build.log`\n",
      "\u001b[32m\u001b[1m  Building\u001b[22m\u001b[39m ZipFile → `~/.julia/packages/ZipFile/p60bh/deps/build.log`\n"
     ]
    },
    {
     "name": "stderr",
     "output_type": "stream",
     "text": [
      "┌ Error: Error building `HDF5`: \n",
      "│ Error: gcc@5: Unsupported special dependency :maximum_macos\n",
      "│ ERROR: LoadError: ArgumentError: `brew info` failed for [\"gcc\", \"szip\"]!\n",
      "│ Stacktrace:\n",
      "│  [1] json(::Array{String,1}) at /Users/kathi/.julia/packages/Homebrew/l8kUw/src/API.jl:192\n",
      "│  [2] info(::Array{String,1}) at /Users/kathi/.julia/packages/Homebrew/l8kUw/src/API.jl:229\n",
      "│  [3] #direct_deps#10(::Bool, ::Function, ::String) at /Users/kathi/.julia/packages/Homebrew/l8kUw/src/API.jl:285\n",
      "│  [4] #direct_deps at ./none:0 [inlined]\n",
      "│  [5] #deps_tree#17(::Bool, ::Function, ::String) at /Users/kathi/.julia/packages/Homebrew/l8kUw/src/API.jl:306\n",
      "│  [6] #deps_tree at ./tuple.jl:0 [inlined]\n",
      "│  [7] #deps_sorted#24(::Bool, ::Function, ::String) at /Users/kathi/.julia/packages/Homebrew/l8kUw/src/API.jl:379\n",
      "│  [8] deps_sorted at /Users/kathi/.julia/packages/Homebrew/l8kUw/src/API.jl:379 [inlined]\n",
      "│  [9] #add#29(::Bool, ::Bool, ::Function, ::String) at /Users/kathi/.julia/packages/Homebrew/l8kUw/src/API.jl:420\n",
      "│  [10] add at /Users/kathi/.julia/packages/Homebrew/l8kUw/src/API.jl:412 [inlined]\n",
      "│  [11] install(::Array{String,1}) at /Users/kathi/.julia/packages/Homebrew/l8kUw/src/bindeps_integration.jl:50\n",
      "│  [12] (::getfield(Homebrew, Symbol(\"##80#81\")))() at /Users/kathi/.julia/packages/Homebrew/l8kUw/src/bindeps_integration.jl:45\n",
      "│  [13] run(::getfield(Homebrew, Symbol(\"##80#81\"))) at /Users/kathi/.julia/packages/BinDeps/ZEval/src/BinDeps.jl:478\n",
      "│  [14] macro expansion at ./logging.jl:308 [inlined]\n",
      "│  [15] run(::BinDeps.SynchronousStepCollection) at /Users/kathi/.julia/packages/BinDeps/ZEval/src/BinDeps.jl:518\n",
      "│  [16] satisfy!(::BinDeps.LibraryDependency, ::Array{DataType,1}) at /Users/kathi/.julia/packages/BinDeps/ZEval/src/dependencies.jl:944\n",
      "│  [17] satisfy!(::BinDeps.LibraryDependency) at /Users/kathi/.julia/packages/BinDeps/ZEval/src/dependencies.jl:922\n",
      "│  [18] top-level scope at /Users/kathi/.julia/packages/BinDeps/ZEval/src/dependencies.jl:977\n",
      "│  [19] include at ./boot.jl:317 [inlined]\n",
      "│  [20] include_relative(::Module, ::String) at ./loading.jl:1041\n",
      "│  [21] include(::Module, ::String) at ./sysimg.jl:29\n",
      "│  [22] include(::String) at ./client.jl:388\n",
      "│  [23] top-level scope at none:0\n",
      "│ in expression starting at /Users/kathi/.julia/packages/HDF5/b6QoH/deps/build.jl:39\n",
      "└ @ Pkg.Operations /Users/osx/buildbot/slave/package_osx64/build/usr/share/julia/stdlib/v1.0/Pkg/src/Operations.jl:1069\n"
     ]
    }
   ],
   "source": [
    "using Pkg\n",
    "Pkg.add(\"HDF5\")"
   ]
  },
  {
   "cell_type": "code",
   "execution_count": 2,
   "metadata": {},
   "outputs": [
    {
     "name": "stderr",
     "output_type": "stream",
     "text": [
      "┌ Info: Precompiling HDF5 [f67ccb44-e63f-5c2f-98bd-6dc0ccc4ba2f]\n",
      "└ @ Base loading.jl:1189\n",
      "ERROR: LoadError: HDF5 not properly installed. Please run Pkg.build(\"HDF5\")\n",
      "Stacktrace:\n",
      " [1] error(::String) at ./error.jl:33\n",
      " [2] top-level scope at /Users/kathi/.julia/packages/HDF5/b6QoH/src/HDF5.jl:34\n",
      " [3] include at ./boot.jl:317 [inlined]\n",
      " [4] include_relative(::Module, ::String) at ./loading.jl:1041\n",
      " [5] include(::Module, ::String) at ./sysimg.jl:29\n",
      " [6] top-level scope at none:2\n",
      " [7] eval at ./boot.jl:319 [inlined]\n",
      " [8] eval(::Expr) at ./client.jl:389\n",
      " [9] top-level scope at ./none:3\n",
      "in expression starting at /Users/kathi/.julia/packages/HDF5/b6QoH/src/HDF5.jl:31\n"
     ]
    },
    {
     "ename": "ErrorException",
     "evalue": "Failed to precompile HDF5 [f67ccb44-e63f-5c2f-98bd-6dc0ccc4ba2f] to /Users/kathi/.julia/compiled/v1.0/HDF5/L7Dga.ji.",
     "output_type": "error",
     "traceback": [
      "Failed to precompile HDF5 [f67ccb44-e63f-5c2f-98bd-6dc0ccc4ba2f] to /Users/kathi/.julia/compiled/v1.0/HDF5/L7Dga.ji.",
      "",
      "Stacktrace:",
      " [1] error(::String) at ./error.jl:33",
      " [2] macro expansion at ./logging.jl:313 [inlined]",
      " [3] compilecache(::Base.PkgId, ::String) at ./loading.jl:1187",
      " [4] macro expansion at ./logging.jl:311 [inlined]",
      " [5] _require(::Base.PkgId) at ./loading.jl:944",
      " [6] require(::Base.PkgId) at ./loading.jl:855",
      " [7] macro expansion at ./logging.jl:311 [inlined]",
      " [8] require(::Module, ::Symbol) at ./loading.jl:837",
      " [9] top-level scope at In[2]:1"
     ]
    }
   ],
   "source": [
    "using HDF5"
   ]
  },
  {
   "cell_type": "code",
   "execution_count": null,
   "metadata": {},
   "outputs": [],
   "source": []
  }
 ],
 "metadata": {
  "kernelspec": {
   "display_name": "Julia 1.0.1",
   "language": "julia",
   "name": "julia-1.0"
  },
  "language_info": {
   "file_extension": ".jl",
   "mimetype": "application/julia",
   "name": "julia",
   "version": "1.0.1"
  }
 },
 "nbformat": 4,
 "nbformat_minor": 2
}
